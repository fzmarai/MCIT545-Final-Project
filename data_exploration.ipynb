{
 "cells": [
  {
   "cell_type": "code",
   "execution_count": 32,
   "metadata": {},
   "outputs": [],
   "source": [
    "import pandas as pd\n",
    "import matplotlib.pyplot as plt\n",
    "import datetime\n",
    "import numpy as np\n",
    "from readability import Readability\n",
    "import spacy\n",
    "from tqdm.notebook import tqdm\n",
    "tqdm.pandas(desc='progress-bar')\n",
    "\n",
    "import multiprocessing\n",
    "cores = multiprocessing.cpu_count()\n",
    "from ipywidgets import FloatProgress\n"
   ]
  },
  {
   "cell_type": "code",
   "execution_count": 3,
   "metadata": {},
   "outputs": [],
   "source": [
    "depression = pd.read_csv('depression_raw.csv')\n",
    "suicide = pd.read_csv('suicide_raw.csv')"
   ]
  },
  {
   "cell_type": "markdown",
   "metadata": {},
   "source": [
    "# Depression Data Exploration"
   ]
  },
  {
   "cell_type": "code",
   "execution_count": 4,
   "metadata": {},
   "outputs": [
    {
     "data": {
      "text/html": [
       "<div>\n",
       "<style scoped>\n",
       "    .dataframe tbody tr th:only-of-type {\n",
       "        vertical-align: middle;\n",
       "    }\n",
       "\n",
       "    .dataframe tbody tr th {\n",
       "        vertical-align: top;\n",
       "    }\n",
       "\n",
       "    .dataframe thead th {\n",
       "        text-align: right;\n",
       "    }\n",
       "</style>\n",
       "<table border=\"1\" class=\"dataframe\">\n",
       "  <thead>\n",
       "    <tr style=\"text-align: right;\">\n",
       "      <th></th>\n",
       "      <th>username</th>\n",
       "      <th>text</th>\n",
       "      <th>posts</th>\n",
       "      <th>url</th>\n",
       "      <th>date_posted</th>\n",
       "    </tr>\n",
       "  </thead>\n",
       "  <tbody>\n",
       "    <tr>\n",
       "      <th>0</th>\n",
       "      <td>ayoubalharchal</td>\n",
       "      <td>\\n\\n\\nDo you ever feel like everyone is watchi...</td>\n",
       "      <td>8</td>\n",
       "      <td>https://www.takethislife.com/depression/do-you...</td>\n",
       "      <td>07-19-22, 02:47 PM</td>\n",
       "    </tr>\n",
       "    <tr>\n",
       "      <th>1</th>\n",
       "      <td>ayoubalharchal</td>\n",
       "      <td>\\n\\n\\nDo you compare yourself to other people ...</td>\n",
       "      <td>8</td>\n",
       "      <td>https://www.takethislife.com/depression/do-you...</td>\n",
       "      <td>07-14-22, 05:15 PM</td>\n",
       "    </tr>\n",
       "    <tr>\n",
       "      <th>2</th>\n",
       "      <td>ayoubalharchal</td>\n",
       "      <td>\\n\\n\\nDo you find yourself apologizing all the...</td>\n",
       "      <td>8</td>\n",
       "      <td>https://www.takethislife.com/depression/do-you...</td>\n",
       "      <td>07-14-22, 08:34 AM</td>\n",
       "    </tr>\n",
       "    <tr>\n",
       "      <th>3</th>\n",
       "      <td>ayoubalharchal</td>\n",
       "      <td>\\n\\n\\nIF SO, READING &amp; UNDERSTANDING THIS WILL...</td>\n",
       "      <td>8</td>\n",
       "      <td>https://www.takethislife.com/depression/do-you...</td>\n",
       "      <td>07-12-22, 05:00 PM</td>\n",
       "    </tr>\n",
       "    <tr>\n",
       "      <th>4</th>\n",
       "      <td>ayoubalharchal</td>\n",
       "      <td>\\n\\n\\nAren’t you a little bit tired of people ...</td>\n",
       "      <td>8</td>\n",
       "      <td>https://www.takethislife.com/depression/aren-t...</td>\n",
       "      <td>07-12-22, 07:56 AM</td>\n",
       "    </tr>\n",
       "  </tbody>\n",
       "</table>\n",
       "</div>"
      ],
      "text/plain": [
       "         username                                               text  posts  \\\n",
       "0  ayoubalharchal  \\n\\n\\nDo you ever feel like everyone is watchi...      8   \n",
       "1  ayoubalharchal  \\n\\n\\nDo you compare yourself to other people ...      8   \n",
       "2  ayoubalharchal  \\n\\n\\nDo you find yourself apologizing all the...      8   \n",
       "3  ayoubalharchal  \\n\\n\\nIF SO, READING & UNDERSTANDING THIS WILL...      8   \n",
       "4  ayoubalharchal  \\n\\n\\nAren’t you a little bit tired of people ...      8   \n",
       "\n",
       "                                                 url         date_posted  \n",
       "0  https://www.takethislife.com/depression/do-you...  07-19-22, 02:47 PM  \n",
       "1  https://www.takethislife.com/depression/do-you...  07-14-22, 05:15 PM  \n",
       "2  https://www.takethislife.com/depression/do-you...  07-14-22, 08:34 AM  \n",
       "3  https://www.takethislife.com/depression/do-you...  07-12-22, 05:00 PM  \n",
       "4  https://www.takethislife.com/depression/aren-t...  07-12-22, 07:56 AM  "
      ]
     },
     "execution_count": 4,
     "metadata": {},
     "output_type": "execute_result"
    }
   ],
   "source": [
    "depression.head()"
   ]
  },
  {
   "cell_type": "code",
   "execution_count": 5,
   "metadata": {},
   "outputs": [
    {
     "data": {
      "text/plain": [
       "username       object\n",
       "text           object\n",
       "posts           int64\n",
       "url            object\n",
       "date_posted    object\n",
       "dtype: object"
      ]
     },
     "execution_count": 5,
     "metadata": {},
     "output_type": "execute_result"
    }
   ],
   "source": [
    "depression.dtypes"
   ]
  },
  {
   "cell_type": "code",
   "execution_count": 6,
   "metadata": {},
   "outputs": [
    {
     "data": {
      "text/html": [
       "<div>\n",
       "<style scoped>\n",
       "    .dataframe tbody tr th:only-of-type {\n",
       "        vertical-align: middle;\n",
       "    }\n",
       "\n",
       "    .dataframe tbody tr th {\n",
       "        vertical-align: top;\n",
       "    }\n",
       "\n",
       "    .dataframe thead th {\n",
       "        text-align: right;\n",
       "    }\n",
       "</style>\n",
       "<table border=\"1\" class=\"dataframe\">\n",
       "  <thead>\n",
       "    <tr style=\"text-align: right;\">\n",
       "      <th></th>\n",
       "      <th>posts</th>\n",
       "    </tr>\n",
       "  </thead>\n",
       "  <tbody>\n",
       "    <tr>\n",
       "      <th>count</th>\n",
       "      <td>19328.000000</td>\n",
       "    </tr>\n",
       "    <tr>\n",
       "      <th>mean</th>\n",
       "      <td>1230.330608</td>\n",
       "    </tr>\n",
       "    <tr>\n",
       "      <th>std</th>\n",
       "      <td>2691.801545</td>\n",
       "    </tr>\n",
       "    <tr>\n",
       "      <th>min</th>\n",
       "      <td>0.000000</td>\n",
       "    </tr>\n",
       "    <tr>\n",
       "      <th>25%</th>\n",
       "      <td>8.000000</td>\n",
       "    </tr>\n",
       "    <tr>\n",
       "      <th>50%</th>\n",
       "      <td>87.000000</td>\n",
       "    </tr>\n",
       "    <tr>\n",
       "      <th>75%</th>\n",
       "      <td>939.000000</td>\n",
       "    </tr>\n",
       "    <tr>\n",
       "      <th>max</th>\n",
       "      <td>18210.000000</td>\n",
       "    </tr>\n",
       "  </tbody>\n",
       "</table>\n",
       "</div>"
      ],
      "text/plain": [
       "              posts\n",
       "count  19328.000000\n",
       "mean    1230.330608\n",
       "std     2691.801545\n",
       "min        0.000000\n",
       "25%        8.000000\n",
       "50%       87.000000\n",
       "75%      939.000000\n",
       "max    18210.000000"
      ]
     },
     "execution_count": 6,
     "metadata": {},
     "output_type": "execute_result"
    }
   ],
   "source": [
    "depression.describe()\n",
    "# The numbers are highly skewed as the users with the most posts appear the most frequently in the data frame. \n",
    "# Will manually calculate the mean and median posts per user"
   ]
  },
  {
   "cell_type": "code",
   "execution_count": 7,
   "metadata": {},
   "outputs": [
    {
     "data": {
      "text/html": [
       "<div>\n",
       "<style scoped>\n",
       "    .dataframe tbody tr th:only-of-type {\n",
       "        vertical-align: middle;\n",
       "    }\n",
       "\n",
       "    .dataframe tbody tr th {\n",
       "        vertical-align: top;\n",
       "    }\n",
       "\n",
       "    .dataframe thead th {\n",
       "        text-align: right;\n",
       "    }\n",
       "</style>\n",
       "<table border=\"1\" class=\"dataframe\">\n",
       "  <thead>\n",
       "    <tr style=\"text-align: right;\">\n",
       "      <th></th>\n",
       "      <th>posts</th>\n",
       "    </tr>\n",
       "    <tr>\n",
       "      <th>username</th>\n",
       "      <th></th>\n",
       "    </tr>\n",
       "  </thead>\n",
       "  <tbody>\n",
       "    <tr>\n",
       "      <th>JustBreathe</th>\n",
       "      <td>0</td>\n",
       "    </tr>\n",
       "    <tr>\n",
       "      <th>mr201</th>\n",
       "      <td>1</td>\n",
       "    </tr>\n",
       "    <tr>\n",
       "      <th>UK20101982</th>\n",
       "      <td>1</td>\n",
       "    </tr>\n",
       "    <tr>\n",
       "      <th>HelpMeNowPlease</th>\n",
       "      <td>1</td>\n",
       "    </tr>\n",
       "    <tr>\n",
       "      <th>HelpMe22</th>\n",
       "      <td>1</td>\n",
       "    </tr>\n",
       "    <tr>\n",
       "      <th>...</th>\n",
       "      <td>...</td>\n",
       "    </tr>\n",
       "    <tr>\n",
       "      <th>irishred</th>\n",
       "      <td>11944</td>\n",
       "    </tr>\n",
       "    <tr>\n",
       "      <th>Blue Girl</th>\n",
       "      <td>13622</td>\n",
       "    </tr>\n",
       "    <tr>\n",
       "      <th>Road Ratt</th>\n",
       "      <td>13622</td>\n",
       "    </tr>\n",
       "    <tr>\n",
       "      <th>Aries</th>\n",
       "      <td>18210</td>\n",
       "    </tr>\n",
       "    <tr>\n",
       "      <th>silent cry</th>\n",
       "      <td>18210</td>\n",
       "    </tr>\n",
       "  </tbody>\n",
       "</table>\n",
       "<p>7232 rows × 1 columns</p>\n",
       "</div>"
      ],
      "text/plain": [
       "                 posts\n",
       "username              \n",
       "JustBreathe          0\n",
       "mr201                1\n",
       "UK20101982           1\n",
       "HelpMeNowPlease      1\n",
       "HelpMe22             1\n",
       "...                ...\n",
       "irishred         11944\n",
       "Blue Girl        13622\n",
       "Road Ratt        13622\n",
       "Aries            18210\n",
       "silent cry       18210\n",
       "\n",
       "[7232 rows x 1 columns]"
      ]
     },
     "execution_count": 7,
     "metadata": {},
     "output_type": "execute_result"
    }
   ],
   "source": [
    "user_post_count = pd.DataFrame(depression.groupby('username')['posts'].max()).sort_values('posts')\n",
    "user_post_count"
   ]
  },
  {
   "cell_type": "code",
   "execution_count": 8,
   "metadata": {},
   "outputs": [
    {
     "name": "stdout",
     "output_type": "stream",
     "text": [
      "The average number of posts per user is 105.58227323008849 and the median is 4.0.\n"
     ]
    }
   ],
   "source": [
    "mean = np.mean(user_post_count['posts'])\n",
    "median = np.median(user_post_count['posts'])\n",
    "print(f\"The average number of posts per user is {mean} and the median is {median}.\")"
   ]
  },
  {
   "cell_type": "code",
   "execution_count": 9,
   "metadata": {},
   "outputs": [
    {
     "data": {
      "text/plain": [
       "username       1\n",
       "text           0\n",
       "posts          0\n",
       "url            0\n",
       "date_posted    0\n",
       "dtype: int64"
      ]
     },
     "execution_count": 9,
     "metadata": {},
     "output_type": "execute_result"
    }
   ],
   "source": [
    "depression.isna().sum()\n",
    "#username was actually \"nan\" "
   ]
  },
  {
   "cell_type": "code",
   "execution_count": 10,
   "metadata": {},
   "outputs": [],
   "source": [
    "depression['username'] = [str(d).lower().replace(' ','_') for d in depression['username']]\n",
    "depression['posts'] = pd.to_numeric(depression['posts'])\n",
    "depression['date_posted'] = [datetime.datetime.strptime(d, '%m-%d-%y, %H:%M %p').date() for d in depression['date_posted']]"
   ]
  },
  {
   "cell_type": "code",
   "execution_count": 11,
   "metadata": {},
   "outputs": [
    {
     "data": {
      "text/plain": [
       "(19328, 5)"
      ]
     },
     "execution_count": 11,
     "metadata": {},
     "output_type": "execute_result"
    }
   ],
   "source": [
    "depression.shape"
   ]
  },
  {
   "cell_type": "code",
   "execution_count": 12,
   "metadata": {},
   "outputs": [],
   "source": [
    "#remove posts with less than 30 chars\n",
    "depression = depression[depression['text'].apply(lambda x: len(str(x))>=30)]\n",
    "#remove users for which posts showed up as 0\n",
    "depression = depression[depression['posts']>=1]\n",
    "#remove posts which users posted twice (different url so not dropped with regular dedupe)\n",
    "depression = depression.drop_duplicates(subset=['text','username'])"
   ]
  },
  {
   "cell_type": "code",
   "execution_count": 13,
   "metadata": {},
   "outputs": [
    {
     "data": {
      "text/plain": [
       "(19155, 5)"
      ]
     },
     "execution_count": 13,
     "metadata": {},
     "output_type": "execute_result"
    }
   ],
   "source": [
    "depression.shape"
   ]
  },
  {
   "cell_type": "code",
   "execution_count": 14,
   "metadata": {},
   "outputs": [],
   "source": [
    "#building some shallow features from the posts\n",
    "depression['post_length'] = [len(post) for post in depression['text']]\n",
    "depression['word_count'] = [len(post.split(' ')) for post in depression['text']]"
   ]
  },
  {
   "cell_type": "code",
   "execution_count": 15,
   "metadata": {},
   "outputs": [],
   "source": [
    "def readability_score(text):\n",
    "    try:\n",
    "        r = Readability(text)\n",
    "        f = r.flesch()\n",
    "        return f.score\n",
    "    except:\n",
    "        return None"
   ]
  },
  {
   "cell_type": "code",
   "execution_count": 16,
   "metadata": {},
   "outputs": [],
   "source": [
    "#using the flesch readabilty score as a feature, higher score means more readability\n",
    "depression['readability_score'] = depression['text'].apply(lambda x : readability_score(x))"
   ]
  },
  {
   "cell_type": "code",
   "execution_count": 39,
   "metadata": {},
   "outputs": [],
   "source": [
    "nlp = spacy.load('en_core_web_sm')\n",
    "\n",
    "def get_pos_tags(text):\n",
    "    doc = nlp(text)\n",
    "    return [(token.pos_, token.tag_) for token in doc]"
   ]
  },
  {
   "cell_type": "code",
   "execution_count": 43,
   "metadata": {},
   "outputs": [
    {
     "data": {
      "text/plain": [
       "19155"
      ]
     },
     "execution_count": 43,
     "metadata": {},
     "output_type": "execute_result"
    }
   ],
   "source": [
    "len(depression.text)"
   ]
  },
  {
   "cell_type": "code",
   "execution_count": 51,
   "metadata": {},
   "outputs": [],
   "source": [
    "depression = depression.reset_index(drop=True)"
   ]
  },
  {
   "cell_type": "code",
   "execution_count": 52,
   "metadata": {},
   "outputs": [
    {
     "name": "stdout",
     "output_type": "stream",
     "text": [
      "19154/19155\r"
     ]
    }
   ],
   "source": [
    "tags = []\n",
    "texts = depression['text']\n",
    "for i in range(len(texts)):\n",
    "    print(f'{i}/19155',end='\\r')\n",
    "    post = texts[i]\n",
    "    tags.append(get_pos_tags(post))"
   ]
  },
  {
   "cell_type": "code",
   "execution_count": 53,
   "metadata": {},
   "outputs": [],
   "source": [
    "depression['pos_tags'] = tags"
   ]
  },
  {
   "cell_type": "code",
   "execution_count": 55,
   "metadata": {},
   "outputs": [],
   "source": [
    "# depression.to_csv('depression_features.csv',index=None)"
   ]
  },
  {
   "cell_type": "code",
   "execution_count": 82,
   "metadata": {},
   "outputs": [],
   "source": [
    "all_joined = []\n",
    "for index, row in depression.iterrows():\n",
    "    t = []\n",
    "    raw_tags = row['pos_tags']\n",
    "    for tup in raw_tags:\n",
    "        joined_tags = '_'.join(tup)\n",
    "        t.append(joined_tags)\n",
    "    all_joined.append(t)\n"
   ]
  },
  {
   "cell_type": "code",
   "execution_count": 88,
   "metadata": {},
   "outputs": [],
   "source": [
    "depression['joined_tags'] = all_joined"
   ]
  },
  {
   "cell_type": "code",
   "execution_count": 105,
   "metadata": {},
   "outputs": [],
   "source": [
    "from collections import Counter\n",
    "tag_dicts = []\n",
    "for t in depression['joined_tags']:\n",
    "    c = Counter(t)\n",
    "    sc = [(i, round(c[i] / len(t) * 100.0,2)) for i in c]\n",
    "    scd = dict(sc)\n",
    "    tag_dicts.append(scd)"
   ]
  },
  {
   "cell_type": "code",
   "execution_count": 107,
   "metadata": {},
   "outputs": [],
   "source": [
    "depression['tag_ratios'] = tag_dicts"
   ]
  },
  {
   "cell_type": "code",
   "execution_count": 108,
   "metadata": {},
   "outputs": [
    {
     "data": {
      "text/html": [
       "<div>\n",
       "<style scoped>\n",
       "    .dataframe tbody tr th:only-of-type {\n",
       "        vertical-align: middle;\n",
       "    }\n",
       "\n",
       "    .dataframe tbody tr th {\n",
       "        vertical-align: top;\n",
       "    }\n",
       "\n",
       "    .dataframe thead th {\n",
       "        text-align: right;\n",
       "    }\n",
       "</style>\n",
       "<table border=\"1\" class=\"dataframe\">\n",
       "  <thead>\n",
       "    <tr style=\"text-align: right;\">\n",
       "      <th></th>\n",
       "      <th>username</th>\n",
       "      <th>text</th>\n",
       "      <th>posts</th>\n",
       "      <th>url</th>\n",
       "      <th>date_posted</th>\n",
       "      <th>post_length</th>\n",
       "      <th>word_count</th>\n",
       "      <th>readability_score</th>\n",
       "      <th>pos_tags</th>\n",
       "      <th>joined_tags</th>\n",
       "      <th>tag_ratios</th>\n",
       "    </tr>\n",
       "  </thead>\n",
       "  <tbody>\n",
       "    <tr>\n",
       "      <th>0</th>\n",
       "      <td>ayoubalharchal</td>\n",
       "      <td>\\n\\n\\nDo you ever feel like everyone is watchi...</td>\n",
       "      <td>8</td>\n",
       "      <td>https://www.takethislife.com/depression/do-you...</td>\n",
       "      <td>2022-07-19</td>\n",
       "      <td>2324</td>\n",
       "      <td>400</td>\n",
       "      <td>82.616667</td>\n",
       "      <td>[(SPACE, _SP), (AUX, VBP), (PRON, PRP), (ADV, ...</td>\n",
       "      <td>[SPACE__SP, AUX_VBP, PRON_PRP, ADV_RB, VERB_VB...</td>\n",
       "      <td>{'SPACE__SP': 4.76, 'AUX_VBP': 2.75, 'PRON_PRP...</td>\n",
       "    </tr>\n",
       "    <tr>\n",
       "      <th>1</th>\n",
       "      <td>ayoubalharchal</td>\n",
       "      <td>\\n\\n\\nDo you compare yourself to other people ...</td>\n",
       "      <td>8</td>\n",
       "      <td>https://www.takethislife.com/depression/do-you...</td>\n",
       "      <td>2022-07-14</td>\n",
       "      <td>2767</td>\n",
       "      <td>427</td>\n",
       "      <td>64.490101</td>\n",
       "      <td>[(SPACE, _SP), (AUX, VBP), (PRON, PRP), (VERB,...</td>\n",
       "      <td>[SPACE__SP, AUX_VBP, PRON_PRP, VERB_VB, PRON_P...</td>\n",
       "      <td>{'SPACE__SP': 5.91, 'AUX_VBP': 1.39, 'PRON_PRP...</td>\n",
       "    </tr>\n",
       "    <tr>\n",
       "      <th>2</th>\n",
       "      <td>ayoubalharchal</td>\n",
       "      <td>\\n\\n\\nDo you find yourself apologizing all the...</td>\n",
       "      <td>8</td>\n",
       "      <td>https://www.takethislife.com/depression/do-you...</td>\n",
       "      <td>2022-07-14</td>\n",
       "      <td>2302</td>\n",
       "      <td>379</td>\n",
       "      <td>77.653752</td>\n",
       "      <td>[(SPACE, _SP), (AUX, VBP), (PRON, PRP), (VERB,...</td>\n",
       "      <td>[SPACE__SP, AUX_VBP, PRON_PRP, VERB_VB, PRON_P...</td>\n",
       "      <td>{'SPACE__SP': 5.11, 'AUX_VBP': 2.46, 'PRON_PRP...</td>\n",
       "    </tr>\n",
       "    <tr>\n",
       "      <th>3</th>\n",
       "      <td>ayoubalharchal</td>\n",
       "      <td>\\n\\n\\nIF SO, READING &amp; UNDERSTANDING THIS WILL...</td>\n",
       "      <td>8</td>\n",
       "      <td>https://www.takethislife.com/depression/do-you...</td>\n",
       "      <td>2022-07-12</td>\n",
       "      <td>2277</td>\n",
       "      <td>377</td>\n",
       "      <td>74.071391</td>\n",
       "      <td>[(SPACE, _SP), (NOUN, NN), (PROPN, NNP), (PUNC...</td>\n",
       "      <td>[SPACE__SP, NOUN_NN, PROPN_NNP, PUNCT_,, PROPN...</td>\n",
       "      <td>{'SPACE__SP': 5.59, 'NOUN_NN': 10.8, 'PROPN_NN...</td>\n",
       "    </tr>\n",
       "    <tr>\n",
       "      <th>4</th>\n",
       "      <td>ayoubalharchal</td>\n",
       "      <td>\\n\\n\\nAren’t you a little bit tired of people ...</td>\n",
       "      <td>8</td>\n",
       "      <td>https://www.takethislife.com/depression/aren-t...</td>\n",
       "      <td>2022-07-12</td>\n",
       "      <td>2721</td>\n",
       "      <td>467</td>\n",
       "      <td>79.586657</td>\n",
       "      <td>[(SPACE, _SP), (AUX, VBP), (PART, RB), (PRON, ...</td>\n",
       "      <td>[SPACE__SP, AUX_VBP, PART_RB, PRON_PRP, DET_DT...</td>\n",
       "      <td>{'SPACE__SP': 4.57, 'AUX_VBP': 1.47, 'PART_RB'...</td>\n",
       "    </tr>\n",
       "    <tr>\n",
       "      <th>...</th>\n",
       "      <td>...</td>\n",
       "      <td>...</td>\n",
       "      <td>...</td>\n",
       "      <td>...</td>\n",
       "      <td>...</td>\n",
       "      <td>...</td>\n",
       "      <td>...</td>\n",
       "      <td>...</td>\n",
       "      <td>...</td>\n",
       "      <td>...</td>\n",
       "      <td>...</td>\n",
       "    </tr>\n",
       "    <tr>\n",
       "      <th>19150</th>\n",
       "      <td>sweetblood123</td>\n",
       "      <td>\\n\\n\\nWhy live if we just die in the end-when ...</td>\n",
       "      <td>118</td>\n",
       "      <td>https://www.takethislife.com/depression/why-li...</td>\n",
       "      <td>2006-06-23</td>\n",
       "      <td>276</td>\n",
       "      <td>52</td>\n",
       "      <td>NaN</td>\n",
       "      <td>[(SPACE, _SP), (SCONJ, WRB), (VERB, VBP), (SCO...</td>\n",
       "      <td>[SPACE__SP, SCONJ_WRB, VERB_VBP, SCONJ_IN, PRO...</td>\n",
       "      <td>{'SPACE__SP': 3.12, 'SCONJ_WRB': 4.69, 'VERB_V...</td>\n",
       "    </tr>\n",
       "    <tr>\n",
       "      <th>19151</th>\n",
       "      <td>imissulotz</td>\n",
       "      <td>\\n\\n\\n:( this is my first post ever on here bu...</td>\n",
       "      <td>1</td>\n",
       "      <td>https://www.takethislife.com/depression/being-...</td>\n",
       "      <td>2006-06-21</td>\n",
       "      <td>1441</td>\n",
       "      <td>314</td>\n",
       "      <td>-215.103734</td>\n",
       "      <td>[(SPACE, _SP), (PUNCT, NFP), (PRON, DT), (AUX,...</td>\n",
       "      <td>[SPACE__SP, PUNCT_NFP, PRON_DT, AUX_VBZ, PRON_...</td>\n",
       "      <td>{'SPACE__SP': 0.91, 'PUNCT_NFP': 0.3, 'PRON_DT...</td>\n",
       "    </tr>\n",
       "    <tr>\n",
       "      <th>19152</th>\n",
       "      <td>sadeyes4eva</td>\n",
       "      <td>\\n\\n\\nHi, new here, \\n      Just started seein...</td>\n",
       "      <td>153</td>\n",
       "      <td>https://www.takethislife.com/depression/how-do...</td>\n",
       "      <td>2006-06-21</td>\n",
       "      <td>999</td>\n",
       "      <td>219</td>\n",
       "      <td>92.603370</td>\n",
       "      <td>[(SPACE, _SP), (PROPN, NNP), (PUNCT, ,), (ADJ,...</td>\n",
       "      <td>[SPACE__SP, PROPN_NNP, PUNCT_,, ADJ_JJ, ADV_RB...</td>\n",
       "      <td>{'SPACE__SP': 7.23, 'PROPN_NNP': 0.8, 'PUNCT_,...</td>\n",
       "    </tr>\n",
       "    <tr>\n",
       "      <th>19153</th>\n",
       "      <td>nan</td>\n",
       "      <td>\\n\\n\\nanother day.   my sleep is so messed up....</td>\n",
       "      <td>13</td>\n",
       "      <td>https://www.takethislife.com/depression/every-...</td>\n",
       "      <td>2006-06-23</td>\n",
       "      <td>511</td>\n",
       "      <td>114</td>\n",
       "      <td>86.509308</td>\n",
       "      <td>[(SPACE, _SP), (DET, DT), (NOUN, NN), (PUNCT, ...</td>\n",
       "      <td>[SPACE__SP, DET_DT, NOUN_NN, PUNCT_., SPACE__S...</td>\n",
       "      <td>{'SPACE__SP': 9.7, 'DET_DT': 4.48, 'NOUN_NN': ...</td>\n",
       "    </tr>\n",
       "    <tr>\n",
       "      <th>19154</th>\n",
       "      <td>pat</td>\n",
       "      <td>\\n\\n\\nI am feeling somewhat nervous here becau...</td>\n",
       "      <td>1</td>\n",
       "      <td>https://www.takethislife.com/depression/being-...</td>\n",
       "      <td>2006-06-20</td>\n",
       "      <td>938</td>\n",
       "      <td>201</td>\n",
       "      <td>75.354235</td>\n",
       "      <td>[(SPACE, _SP), (PRON, PRP), (AUX, VBP), (VERB,...</td>\n",
       "      <td>[SPACE__SP, PRON_PRP, AUX_VBP, VERB_VBG, ADV_R...</td>\n",
       "      <td>{'SPACE__SP': 4.11, 'PRON_PRP': 12.79, 'AUX_VB...</td>\n",
       "    </tr>\n",
       "  </tbody>\n",
       "</table>\n",
       "<p>19155 rows × 11 columns</p>\n",
       "</div>"
      ],
      "text/plain": [
       "             username                                               text  \\\n",
       "0      ayoubalharchal  \\n\\n\\nDo you ever feel like everyone is watchi...   \n",
       "1      ayoubalharchal  \\n\\n\\nDo you compare yourself to other people ...   \n",
       "2      ayoubalharchal  \\n\\n\\nDo you find yourself apologizing all the...   \n",
       "3      ayoubalharchal  \\n\\n\\nIF SO, READING & UNDERSTANDING THIS WILL...   \n",
       "4      ayoubalharchal  \\n\\n\\nAren’t you a little bit tired of people ...   \n",
       "...               ...                                                ...   \n",
       "19150   sweetblood123  \\n\\n\\nWhy live if we just die in the end-when ...   \n",
       "19151      imissulotz  \\n\\n\\n:( this is my first post ever on here bu...   \n",
       "19152     sadeyes4eva  \\n\\n\\nHi, new here, \\n      Just started seein...   \n",
       "19153             nan  \\n\\n\\nanother day.   my sleep is so messed up....   \n",
       "19154             pat  \\n\\n\\nI am feeling somewhat nervous here becau...   \n",
       "\n",
       "       posts                                                url date_posted  \\\n",
       "0          8  https://www.takethislife.com/depression/do-you...  2022-07-19   \n",
       "1          8  https://www.takethislife.com/depression/do-you...  2022-07-14   \n",
       "2          8  https://www.takethislife.com/depression/do-you...  2022-07-14   \n",
       "3          8  https://www.takethislife.com/depression/do-you...  2022-07-12   \n",
       "4          8  https://www.takethislife.com/depression/aren-t...  2022-07-12   \n",
       "...      ...                                                ...         ...   \n",
       "19150    118  https://www.takethislife.com/depression/why-li...  2006-06-23   \n",
       "19151      1  https://www.takethislife.com/depression/being-...  2006-06-21   \n",
       "19152    153  https://www.takethislife.com/depression/how-do...  2006-06-21   \n",
       "19153     13  https://www.takethislife.com/depression/every-...  2006-06-23   \n",
       "19154      1  https://www.takethislife.com/depression/being-...  2006-06-20   \n",
       "\n",
       "       post_length  word_count  readability_score  \\\n",
       "0             2324         400          82.616667   \n",
       "1             2767         427          64.490101   \n",
       "2             2302         379          77.653752   \n",
       "3             2277         377          74.071391   \n",
       "4             2721         467          79.586657   \n",
       "...            ...         ...                ...   \n",
       "19150          276          52                NaN   \n",
       "19151         1441         314        -215.103734   \n",
       "19152          999         219          92.603370   \n",
       "19153          511         114          86.509308   \n",
       "19154          938         201          75.354235   \n",
       "\n",
       "                                                pos_tags  \\\n",
       "0      [(SPACE, _SP), (AUX, VBP), (PRON, PRP), (ADV, ...   \n",
       "1      [(SPACE, _SP), (AUX, VBP), (PRON, PRP), (VERB,...   \n",
       "2      [(SPACE, _SP), (AUX, VBP), (PRON, PRP), (VERB,...   \n",
       "3      [(SPACE, _SP), (NOUN, NN), (PROPN, NNP), (PUNC...   \n",
       "4      [(SPACE, _SP), (AUX, VBP), (PART, RB), (PRON, ...   \n",
       "...                                                  ...   \n",
       "19150  [(SPACE, _SP), (SCONJ, WRB), (VERB, VBP), (SCO...   \n",
       "19151  [(SPACE, _SP), (PUNCT, NFP), (PRON, DT), (AUX,...   \n",
       "19152  [(SPACE, _SP), (PROPN, NNP), (PUNCT, ,), (ADJ,...   \n",
       "19153  [(SPACE, _SP), (DET, DT), (NOUN, NN), (PUNCT, ...   \n",
       "19154  [(SPACE, _SP), (PRON, PRP), (AUX, VBP), (VERB,...   \n",
       "\n",
       "                                             joined_tags  \\\n",
       "0      [SPACE__SP, AUX_VBP, PRON_PRP, ADV_RB, VERB_VB...   \n",
       "1      [SPACE__SP, AUX_VBP, PRON_PRP, VERB_VB, PRON_P...   \n",
       "2      [SPACE__SP, AUX_VBP, PRON_PRP, VERB_VB, PRON_P...   \n",
       "3      [SPACE__SP, NOUN_NN, PROPN_NNP, PUNCT_,, PROPN...   \n",
       "4      [SPACE__SP, AUX_VBP, PART_RB, PRON_PRP, DET_DT...   \n",
       "...                                                  ...   \n",
       "19150  [SPACE__SP, SCONJ_WRB, VERB_VBP, SCONJ_IN, PRO...   \n",
       "19151  [SPACE__SP, PUNCT_NFP, PRON_DT, AUX_VBZ, PRON_...   \n",
       "19152  [SPACE__SP, PROPN_NNP, PUNCT_,, ADJ_JJ, ADV_RB...   \n",
       "19153  [SPACE__SP, DET_DT, NOUN_NN, PUNCT_., SPACE__S...   \n",
       "19154  [SPACE__SP, PRON_PRP, AUX_VBP, VERB_VBG, ADV_R...   \n",
       "\n",
       "                                              tag_ratios  \n",
       "0      {'SPACE__SP': 4.76, 'AUX_VBP': 2.75, 'PRON_PRP...  \n",
       "1      {'SPACE__SP': 5.91, 'AUX_VBP': 1.39, 'PRON_PRP...  \n",
       "2      {'SPACE__SP': 5.11, 'AUX_VBP': 2.46, 'PRON_PRP...  \n",
       "3      {'SPACE__SP': 5.59, 'NOUN_NN': 10.8, 'PROPN_NN...  \n",
       "4      {'SPACE__SP': 4.57, 'AUX_VBP': 1.47, 'PART_RB'...  \n",
       "...                                                  ...  \n",
       "19150  {'SPACE__SP': 3.12, 'SCONJ_WRB': 4.69, 'VERB_V...  \n",
       "19151  {'SPACE__SP': 0.91, 'PUNCT_NFP': 0.3, 'PRON_DT...  \n",
       "19152  {'SPACE__SP': 7.23, 'PROPN_NNP': 0.8, 'PUNCT_,...  \n",
       "19153  {'SPACE__SP': 9.7, 'DET_DT': 4.48, 'NOUN_NN': ...  \n",
       "19154  {'SPACE__SP': 4.11, 'PRON_PRP': 12.79, 'AUX_VB...  \n",
       "\n",
       "[19155 rows x 11 columns]"
      ]
     },
     "execution_count": 108,
     "metadata": {},
     "output_type": "execute_result"
    }
   ],
   "source": [
    "depression"
   ]
  },
  {
   "cell_type": "code",
   "execution_count": 110,
   "metadata": {},
   "outputs": [],
   "source": [
    "depression = pd.concat([depression.drop(['tag_ratios'], axis=1), depression['tag_ratios'].apply(pd.Series)], axis=1)"
   ]
  },
  {
   "cell_type": "code",
   "execution_count": 118,
   "metadata": {},
   "outputs": [],
   "source": [
    "depression.to_csv('depression_features_pos.csv',index=None)"
   ]
  },
  {
   "cell_type": "code",
   "execution_count": 119,
   "metadata": {},
   "outputs": [
    {
     "data": {
      "text/html": [
       "<div>\n",
       "<style scoped>\n",
       "    .dataframe tbody tr th:only-of-type {\n",
       "        vertical-align: middle;\n",
       "    }\n",
       "\n",
       "    .dataframe tbody tr th {\n",
       "        vertical-align: top;\n",
       "    }\n",
       "\n",
       "    .dataframe thead th {\n",
       "        text-align: right;\n",
       "    }\n",
       "</style>\n",
       "<table border=\"1\" class=\"dataframe\">\n",
       "  <thead>\n",
       "    <tr style=\"text-align: right;\">\n",
       "      <th></th>\n",
       "      <th>username</th>\n",
       "      <th>text</th>\n",
       "      <th>posts</th>\n",
       "      <th>url</th>\n",
       "      <th>date_posted</th>\n",
       "      <th>post_length</th>\n",
       "      <th>word_count</th>\n",
       "      <th>readability_score</th>\n",
       "      <th>pos_tags</th>\n",
       "      <th>joined_tags</th>\n",
       "      <th>...</th>\n",
       "      <th>AUX_ADD</th>\n",
       "      <th>AUX_:</th>\n",
       "      <th>AUX_-LRB-</th>\n",
       "      <th>VERB_NNS</th>\n",
       "      <th>AUX_HYPH</th>\n",
       "      <th>AUX_PRP</th>\n",
       "      <th>ADV_CC</th>\n",
       "      <th>AUX_.</th>\n",
       "      <th>AUX_XX</th>\n",
       "      <th>AUX_WRB</th>\n",
       "    </tr>\n",
       "  </thead>\n",
       "  <tbody>\n",
       "    <tr>\n",
       "      <th>0</th>\n",
       "      <td>ayoubalharchal</td>\n",
       "      <td>\\n\\n\\nDo you ever feel like everyone is watchi...</td>\n",
       "      <td>8</td>\n",
       "      <td>https://www.takethislife.com/depression/do-you...</td>\n",
       "      <td>2022-07-19</td>\n",
       "      <td>2324</td>\n",
       "      <td>400</td>\n",
       "      <td>82.616667</td>\n",
       "      <td>[(SPACE, _SP), (AUX, VBP), (PRON, PRP), (ADV, ...</td>\n",
       "      <td>[SPACE__SP, AUX_VBP, PRON_PRP, ADV_RB, VERB_VB...</td>\n",
       "      <td>...</td>\n",
       "      <td>NaN</td>\n",
       "      <td>NaN</td>\n",
       "      <td>NaN</td>\n",
       "      <td>NaN</td>\n",
       "      <td>NaN</td>\n",
       "      <td>NaN</td>\n",
       "      <td>NaN</td>\n",
       "      <td>NaN</td>\n",
       "      <td>NaN</td>\n",
       "      <td>NaN</td>\n",
       "    </tr>\n",
       "    <tr>\n",
       "      <th>1</th>\n",
       "      <td>ayoubalharchal</td>\n",
       "      <td>\\n\\n\\nDo you compare yourself to other people ...</td>\n",
       "      <td>8</td>\n",
       "      <td>https://www.takethislife.com/depression/do-you...</td>\n",
       "      <td>2022-07-14</td>\n",
       "      <td>2767</td>\n",
       "      <td>427</td>\n",
       "      <td>64.490101</td>\n",
       "      <td>[(SPACE, _SP), (AUX, VBP), (PRON, PRP), (VERB,...</td>\n",
       "      <td>[SPACE__SP, AUX_VBP, PRON_PRP, VERB_VB, PRON_P...</td>\n",
       "      <td>...</td>\n",
       "      <td>NaN</td>\n",
       "      <td>NaN</td>\n",
       "      <td>NaN</td>\n",
       "      <td>NaN</td>\n",
       "      <td>NaN</td>\n",
       "      <td>NaN</td>\n",
       "      <td>NaN</td>\n",
       "      <td>NaN</td>\n",
       "      <td>NaN</td>\n",
       "      <td>NaN</td>\n",
       "    </tr>\n",
       "    <tr>\n",
       "      <th>2</th>\n",
       "      <td>ayoubalharchal</td>\n",
       "      <td>\\n\\n\\nDo you find yourself apologizing all the...</td>\n",
       "      <td>8</td>\n",
       "      <td>https://www.takethislife.com/depression/do-you...</td>\n",
       "      <td>2022-07-14</td>\n",
       "      <td>2302</td>\n",
       "      <td>379</td>\n",
       "      <td>77.653752</td>\n",
       "      <td>[(SPACE, _SP), (AUX, VBP), (PRON, PRP), (VERB,...</td>\n",
       "      <td>[SPACE__SP, AUX_VBP, PRON_PRP, VERB_VB, PRON_P...</td>\n",
       "      <td>...</td>\n",
       "      <td>NaN</td>\n",
       "      <td>NaN</td>\n",
       "      <td>NaN</td>\n",
       "      <td>NaN</td>\n",
       "      <td>NaN</td>\n",
       "      <td>NaN</td>\n",
       "      <td>NaN</td>\n",
       "      <td>NaN</td>\n",
       "      <td>NaN</td>\n",
       "      <td>NaN</td>\n",
       "    </tr>\n",
       "    <tr>\n",
       "      <th>3</th>\n",
       "      <td>ayoubalharchal</td>\n",
       "      <td>\\n\\n\\nIF SO, READING &amp; UNDERSTANDING THIS WILL...</td>\n",
       "      <td>8</td>\n",
       "      <td>https://www.takethislife.com/depression/do-you...</td>\n",
       "      <td>2022-07-12</td>\n",
       "      <td>2277</td>\n",
       "      <td>377</td>\n",
       "      <td>74.071391</td>\n",
       "      <td>[(SPACE, _SP), (NOUN, NN), (PROPN, NNP), (PUNC...</td>\n",
       "      <td>[SPACE__SP, NOUN_NN, PROPN_NNP, PUNCT_,, PROPN...</td>\n",
       "      <td>...</td>\n",
       "      <td>NaN</td>\n",
       "      <td>NaN</td>\n",
       "      <td>NaN</td>\n",
       "      <td>NaN</td>\n",
       "      <td>NaN</td>\n",
       "      <td>NaN</td>\n",
       "      <td>NaN</td>\n",
       "      <td>NaN</td>\n",
       "      <td>NaN</td>\n",
       "      <td>NaN</td>\n",
       "    </tr>\n",
       "    <tr>\n",
       "      <th>4</th>\n",
       "      <td>ayoubalharchal</td>\n",
       "      <td>\\n\\n\\nAren’t you a little bit tired of people ...</td>\n",
       "      <td>8</td>\n",
       "      <td>https://www.takethislife.com/depression/aren-t...</td>\n",
       "      <td>2022-07-12</td>\n",
       "      <td>2721</td>\n",
       "      <td>467</td>\n",
       "      <td>79.586657</td>\n",
       "      <td>[(SPACE, _SP), (AUX, VBP), (PART, RB), (PRON, ...</td>\n",
       "      <td>[SPACE__SP, AUX_VBP, PART_RB, PRON_PRP, DET_DT...</td>\n",
       "      <td>...</td>\n",
       "      <td>NaN</td>\n",
       "      <td>NaN</td>\n",
       "      <td>NaN</td>\n",
       "      <td>NaN</td>\n",
       "      <td>NaN</td>\n",
       "      <td>NaN</td>\n",
       "      <td>NaN</td>\n",
       "      <td>NaN</td>\n",
       "      <td>NaN</td>\n",
       "      <td>NaN</td>\n",
       "    </tr>\n",
       "  </tbody>\n",
       "</table>\n",
       "<p>5 rows × 100 columns</p>\n",
       "</div>"
      ],
      "text/plain": [
       "         username                                               text  posts  \\\n",
       "0  ayoubalharchal  \\n\\n\\nDo you ever feel like everyone is watchi...      8   \n",
       "1  ayoubalharchal  \\n\\n\\nDo you compare yourself to other people ...      8   \n",
       "2  ayoubalharchal  \\n\\n\\nDo you find yourself apologizing all the...      8   \n",
       "3  ayoubalharchal  \\n\\n\\nIF SO, READING & UNDERSTANDING THIS WILL...      8   \n",
       "4  ayoubalharchal  \\n\\n\\nAren’t you a little bit tired of people ...      8   \n",
       "\n",
       "                                                 url date_posted  post_length  \\\n",
       "0  https://www.takethislife.com/depression/do-you...  2022-07-19         2324   \n",
       "1  https://www.takethislife.com/depression/do-you...  2022-07-14         2767   \n",
       "2  https://www.takethislife.com/depression/do-you...  2022-07-14         2302   \n",
       "3  https://www.takethislife.com/depression/do-you...  2022-07-12         2277   \n",
       "4  https://www.takethislife.com/depression/aren-t...  2022-07-12         2721   \n",
       "\n",
       "   word_count  readability_score  \\\n",
       "0         400          82.616667   \n",
       "1         427          64.490101   \n",
       "2         379          77.653752   \n",
       "3         377          74.071391   \n",
       "4         467          79.586657   \n",
       "\n",
       "                                            pos_tags  \\\n",
       "0  [(SPACE, _SP), (AUX, VBP), (PRON, PRP), (ADV, ...   \n",
       "1  [(SPACE, _SP), (AUX, VBP), (PRON, PRP), (VERB,...   \n",
       "2  [(SPACE, _SP), (AUX, VBP), (PRON, PRP), (VERB,...   \n",
       "3  [(SPACE, _SP), (NOUN, NN), (PROPN, NNP), (PUNC...   \n",
       "4  [(SPACE, _SP), (AUX, VBP), (PART, RB), (PRON, ...   \n",
       "\n",
       "                                         joined_tags  ...  AUX_ADD  AUX_:  \\\n",
       "0  [SPACE__SP, AUX_VBP, PRON_PRP, ADV_RB, VERB_VB...  ...      NaN    NaN   \n",
       "1  [SPACE__SP, AUX_VBP, PRON_PRP, VERB_VB, PRON_P...  ...      NaN    NaN   \n",
       "2  [SPACE__SP, AUX_VBP, PRON_PRP, VERB_VB, PRON_P...  ...      NaN    NaN   \n",
       "3  [SPACE__SP, NOUN_NN, PROPN_NNP, PUNCT_,, PROPN...  ...      NaN    NaN   \n",
       "4  [SPACE__SP, AUX_VBP, PART_RB, PRON_PRP, DET_DT...  ...      NaN    NaN   \n",
       "\n",
       "   AUX_-LRB-  VERB_NNS  AUX_HYPH  AUX_PRP  ADV_CC  AUX_.  AUX_XX  AUX_WRB  \n",
       "0        NaN       NaN       NaN      NaN     NaN    NaN     NaN      NaN  \n",
       "1        NaN       NaN       NaN      NaN     NaN    NaN     NaN      NaN  \n",
       "2        NaN       NaN       NaN      NaN     NaN    NaN     NaN      NaN  \n",
       "3        NaN       NaN       NaN      NaN     NaN    NaN     NaN      NaN  \n",
       "4        NaN       NaN       NaN      NaN     NaN    NaN     NaN      NaN  \n",
       "\n",
       "[5 rows x 100 columns]"
      ]
     },
     "execution_count": 119,
     "metadata": {},
     "output_type": "execute_result"
    }
   ],
   "source": [
    "depression.head()"
   ]
  },
  {
   "cell_type": "code",
   "execution_count": 123,
   "metadata": {},
   "outputs": [
    {
     "data": {
      "text/plain": [
       "Index(['username', 'text', 'posts', 'url', 'date_posted', 'post_length',\n",
       "       'word_count', 'readability_score', 'pos_tags', 'joined_tags',\n",
       "       'SPACE__SP', 'AUX_VBP', 'PRON_PRP', 'ADV_RB', 'VERB_VB', 'SCONJ_IN',\n",
       "       'PRON_NN', 'AUX_VBZ', 'VERB_VBG', 'PUNCT_.', 'CCONJ_CC', 'VERB_VBP',\n",
       "       'PART_TO', 'PRON_WP', 'AUX_MD', 'AUX_VB', 'ADP_IN', 'PRON_PRP$',\n",
       "       'NOUN_NN', 'ADJ_JJ', 'PROPN_NNP', 'NOUN_NNS', 'ADP_RP', 'PUNCT_,',\n",
       "       'VERB_VBN', 'PUNCT_``', 'NUM_CD', 'PART_RB', 'DET_DT', 'SCONJ_WRB',\n",
       "       'VERB_VBZ', 'AUX_VBD', 'PRON_EX', 'VERB_VBD', 'PUNCT_:', 'PUNCT_''',\n",
       "       'PUNCT_HYPH', 'ADJ_JJS', 'PRON_WDT', 'PRON_DT', 'PUNCT_-LRB-',\n",
       "       'PUNCT_-RRB-', 'PART_POS', 'X_LS', 'ADJ_JJR', 'ADV_RBR', 'PUNCT_NFP',\n",
       "       'INTJ_UH', 'DET_PDT', 'AUX_VBG', 'ADV_RBS', 'X_XX', 'X_ADD', 'SYM_SYM',\n",
       "       'AUX_VBN', 'DET_WDT', 'AUX_RB', 'X_FW', 'SYM_$', 'DET_WP$',\n",
       "       'PROPN_NNPS', 'AUX_UH', 'AUX_IN', 'AUX_POS', 'ADJ_AFX', 'AUX_NN',\n",
       "       'AUX_NNP', 'VERB_NNP', 'AUX_NFP', 'AUX_``', 'AUX_FW', 'VERB_MD',\n",
       "       'AUX_''', 'VERB_NN', 'AUX_SYM', 'AUX_RBR', 'VERB_POS', 'AUX_NNS',\n",
       "       'AUX_CD', 'AUX_JJ', 'AUX_ADD', 'AUX_:', 'AUX_-LRB-', 'VERB_NNS',\n",
       "       'AUX_HYPH', 'AUX_PRP', 'ADV_CC', 'AUX_.', 'AUX_XX', 'AUX_WRB'],\n",
       "      dtype='object')"
      ]
     },
     "execution_count": 123,
     "metadata": {},
     "output_type": "execute_result"
    }
   ],
   "source": [
    "depression.columns"
   ]
  },
  {
   "cell_type": "code",
   "execution_count": null,
   "metadata": {},
   "outputs": [],
   "source": []
  }
 ],
 "metadata": {
  "kernelspec": {
   "display_name": "Python 3.9.7 ('final_project_venv': venv)",
   "language": "python",
   "name": "python3"
  },
  "language_info": {
   "codemirror_mode": {
    "name": "ipython",
    "version": 3
   },
   "file_extension": ".py",
   "mimetype": "text/x-python",
   "name": "python",
   "nbconvert_exporter": "python",
   "pygments_lexer": "ipython3",
   "version": "3.9.7"
  },
  "orig_nbformat": 4,
  "vscode": {
   "interpreter": {
    "hash": "201a26f47ffd5fe054d36b8c9ecc5db00f385bb95bd85cb1352168bc60eb9a82"
   }
  }
 },
 "nbformat": 4,
 "nbformat_minor": 2
}
