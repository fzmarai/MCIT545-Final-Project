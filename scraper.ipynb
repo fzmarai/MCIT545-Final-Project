{
 "cells": [
  {
   "cell_type": "code",
   "execution_count": null,
   "metadata": {},
   "outputs": [],
   "source": [
    "import pandas as pd\n",
    "from bs4 import BeautifulSoup\n",
    "from selenium import webdriver\n",
    "from selenium.webdriver.common.by import By\n",
    "from selenium.webdriver.support.ui import WebDriverWait\n",
    "from selenium.webdriver.support import expected_conditions as EC\n",
    "from selenium.common.exceptions import TimeoutException\n",
    "from time import sleep\n",
    "from datetime import datetime, timedelta\n",
    "\n",
    "import re\n",
    "import warnings\n",
    "warnings.filterwarnings('ignore')"
   ]
  },
  {
   "cell_type": "code",
   "execution_count": null,
   "metadata": {},
   "outputs": [],
   "source": [
    "driver = webdriver.Chrome(executable_path=\"./chromedriver\")"
   ]
  },
  {
   "cell_type": "code",
   "execution_count": null,
   "metadata": {},
   "outputs": [],
   "source": [
    "# password Finalprojectlogin123!@#\n",
    "# email ylevine@seas.upenn.edu\n",
    "# username ylfz\n",
    "\n",
    "# login process\n",
    "driver.get(\"http://www.takethislife.com\")    \n",
    "\n",
    "username = driver.find_element_by_xpath(\"\"\"//*[@id=\"navbar_username\"]\"\"\")\n",
    "password = driver.find_element_by_xpath(\"\"\"//*[@id=\"navbar_password\"]\"\"\")\n",
    "\n",
    "username.send_keys(\"ylfz\")\n",
    "password.send_keys(\"Finalprojectlogin123!@#\")\n",
    "\n",
    "driver.find_element_by_xpath(\"\"\"/html/body/div[1]/div/div/table[1]/tbody/tr/td[2]/form/table/tbody/tr[2]/td[3]/input\"\"\").click()\n",
    "sleep(10)"
   ]
  },
  {
   "cell_type": "code",
   "execution_count": null,
   "metadata": {},
   "outputs": [],
   "source": [
    "driver.get(\"https://www.takethislife.com/depression/christmas-blues-12938/\")"
   ]
  },
  {
   "cell_type": "code",
   "execution_count": null,
   "metadata": {},
   "outputs": [],
   "source": [
    "depression = pd.read_csv('depression_raw_2.csv')"
   ]
  },
  {
   "cell_type": "code",
   "execution_count": null,
   "metadata": {},
   "outputs": [],
   "source": [
    "# depression= pd.DataFrame(columns=[\"username\",\"text\",\"posts\",\"url\",\"date_posted\"])"
   ]
  },
  {
   "cell_type": "code",
   "execution_count": null,
   "metadata": {},
   "outputs": [],
   "source": [
    "htmls = []"
   ]
  },
  {
   "cell_type": "code",
   "execution_count": null,
   "metadata": {},
   "outputs": [],
   "source": [
    "total_posts = 20 * 968"
   ]
  },
  {
   "cell_type": "code",
   "execution_count": null,
   "metadata": {},
   "outputs": [],
   "source": [
    "driver.get(depression.iloc[-1]['url'])\n",
    "for item in range(1,total_posts-len(depression)):\n",
    "# for item in range(1,100):\n",
    "    try:\n",
    "        #get full page HTML\n",
    "        html = driver.page_source\n",
    "\n",
    "        #parse structure using BS\n",
    "        html2=BeautifulSoup(html,'html.parser', from_encoding=\"utf-8\")\n",
    "        htmls.append(html2)\n",
    "\n",
    "        #get initial post from forum\n",
    "        text=html2.find(\"div\", id=re.compile(\"^post_message\")).get_text()\n",
    "\n",
    "        #get username\n",
    "        name=html2.find('a',class_='bigusername').get_text()\n",
    "\n",
    "        #get post count section and parse posts\n",
    "        q = html2.find(\"div\", id=\"posts\").get_text()\n",
    "        p = re.search('Posts: (\\d+)',q.replace(',',''))\n",
    "        posts=p[0].split(' ')[-1]\n",
    "\n",
    "        #get current page URL\n",
    "        url = driver.current_url\n",
    "\n",
    "        #get date posted\n",
    "        date_raw = driver.find_element_by_xpath(\"\"\"/html/body/table[2]/tbody/tr/td[1]/div/div[1]/div/div/div/table/tbody/tr[1]/td[1]\"\"\").text\n",
    "\n",
    "        if 'today' in date_raw.lower():\n",
    "            now = datetime.utcnow()\n",
    "            date_raw = datetime.strftime(now, '%Y-%m-%d, %H:%M:%S')\n",
    "\n",
    "        if 'yesterday' in date_raw.lower():\n",
    "            now = datetime.utcnow() - timedelta(days=1)\n",
    "            date_raw = datetime.strftime(now, '%Y-%m-%d, %H:%M:%S')\n",
    "            \n",
    "\n",
    "        #Proceed to next post\n",
    "        driver.find_element_by_xpath(\"\"\"/html/body/div[3]/div/div/div[1]/a\"\"\").click()\n",
    "        depression.loc[len(depression)]=[name, text, posts, url, date_raw]\n",
    "        sleep(.5)\n",
    "        print(f'{len(depression)}/{total_posts}',end='\\r')\n",
    "    except Exception as e:\n",
    "        driver.find_element_by_xpath(\"\"\"/html/body/div[3]/div/div/div[1]/a[1]\"\"\").click()\n",
    "        print(f'Skipping url {url} item number {item}')\n",
    "driver.close()\n",
    "depression"
   ]
  },
  {
   "cell_type": "code",
   "execution_count": null,
   "metadata": {},
   "outputs": [],
   "source": [
    "depression.iloc[-1]['url']"
   ]
  },
  {
   "cell_type": "code",
   "execution_count": null,
   "metadata": {},
   "outputs": [],
   "source": [
    "depression"
   ]
  },
  {
   "cell_type": "code",
   "execution_count": null,
   "metadata": {},
   "outputs": [],
   "source": [
    "depression.to_csv('depression_raw_4.csv',index=None)"
   ]
  },
  {
   "cell_type": "code",
   "execution_count": null,
   "metadata": {},
   "outputs": [],
   "source": [
    "driver.get(\"https://www.takethislife.com/suicide/do-i-have-balls-go-through-290606/\")"
   ]
  },
  {
   "cell_type": "code",
   "execution_count": null,
   "metadata": {},
   "outputs": [],
   "source": [
    "# suicide = pd.DataFrame(columns=[\"username\",\"text\",\"posts\",\"url\",\"date_posted\"])"
   ]
  },
  {
   "cell_type": "code",
   "execution_count": null,
   "metadata": {},
   "outputs": [],
   "source": [
    "suicide = pd.read_csv('suicide_raw_1.csv')"
   ]
  },
  {
   "cell_type": "code",
   "execution_count": null,
   "metadata": {},
   "outputs": [],
   "source": [
    "total_posts = 20 * 453"
   ]
  },
  {
   "cell_type": "code",
   "execution_count": null,
   "metadata": {},
   "outputs": [],
   "source": [
    "len(suicide)"
   ]
  },
  {
   "cell_type": "code",
   "execution_count": null,
   "metadata": {},
   "outputs": [],
   "source": [
    "suicide "
   ]
  },
  {
   "cell_type": "code",
   "execution_count": null,
   "metadata": {},
   "outputs": [],
   "source": []
  },
  {
   "cell_type": "code",
   "execution_count": null,
   "metadata": {},
   "outputs": [],
   "source": [
    "driver.get(suicide.iloc[-1]['url'])\n",
    "for item in range(1,total_posts-len(suicide)):\n",
    "# for item in range(1,100):\n",
    "    try:\n",
    "        #get full page HTML\n",
    "        html = driver.page_source\n",
    "\n",
    "        #parse structure using BS\n",
    "        html2=BeautifulSoup(html,'html.parser', from_encoding=\"utf-8\")\n",
    "        htmls.append(html2)\n",
    "\n",
    "        #get initial post from forum\n",
    "        text=html2.find(\"div\", id=re.compile(\"^post_message\")).get_text()\n",
    "\n",
    "        #get username\n",
    "        name=html2.find('a',class_='bigusername').get_text()\n",
    "\n",
    "        #get post count section and parse posts\n",
    "        q = html2.find(\"div\", id=\"posts\").get_text()\n",
    "        p = re.search('Posts: (\\d+)',q.replace(',',''))\n",
    "        posts=p[0].split(' ')[-1]\n",
    "\n",
    "        #get current page URL\n",
    "        url = driver.current_url\n",
    "\n",
    "        #get date posted\n",
    "        date_raw = driver.find_element_by_xpath(\"\"\"/html/body/table[2]/tbody/tr/td[1]/div/div[1]/div/div/div/table/tbody/tr[1]/td[1]\"\"\").text\n",
    "\n",
    "        if 'today' in date_raw.lower():\n",
    "            now = datetime.utcnow()\n",
    "            date_raw = datetime.strftime(now, '%Y-%m-%d, %H:%M:%S')\n",
    "\n",
    "        if 'yesterday' in date_raw.lower():\n",
    "            now = datetime.utcnow() - timedelta(days=1)\n",
    "            date_raw = datetime.strftime(now, '%Y-%m-%d, %H:%M:%S')\n",
    "            \n",
    "\n",
    "        #Proceed to next post\n",
    "        driver.find_element_by_xpath(\"\"\"/html/body/div[3]/div/div/div[1]/a\"\"\").click()\n",
    "        suicide.loc[len(suicide)]=[name, text, posts, url, date_raw]\n",
    "        sleep(.5)\n",
    "        print(f'{len(suicide)}/{total_posts}',end='\\r')\n",
    "    except Exception as e:\n",
    "        driver.find_element_by_xpath(\"\"\"/html/body/div[3]/div/div/div[1]/a[1]\"\"\").click()\n",
    "        suicide.loc[len(suicide)]=[name, text, posts, url, date_raw]\n",
    "        sleep(.5)\n",
    "        print(f'{len(suicide)}/{total_posts}',end='\\r')\n",
    "        \n",
    "driver.close()\n",
    "suicide"
   ]
  },
  {
   "cell_type": "code",
   "execution_count": null,
   "metadata": {},
   "outputs": [],
   "source": [
    "suicide"
   ]
  },
  {
   "cell_type": "code",
   "execution_count": null,
   "metadata": {},
   "outputs": [],
   "source": [
    "suicide.to_csv('suicide_raw_3.csv',index=None)"
   ]
  },
  {
   "cell_type": "code",
   "execution_count": null,
   "metadata": {},
   "outputs": [],
   "source": [
    "driver.get(suicide.iloc[-1]['url'])\n"
   ]
  },
  {
   "cell_type": "code",
   "execution_count": null,
   "metadata": {},
   "outputs": [],
   "source": []
  }
 ],
 "metadata": {
  "kernelspec": {
   "display_name": "Python 3.9.7 ('final_project_venv': venv)",
   "language": "python",
   "name": "python3"
  },
  "language_info": {
   "codemirror_mode": {
    "name": "ipython",
    "version": 3
   },
   "file_extension": ".py",
   "mimetype": "text/x-python",
   "name": "python",
   "nbconvert_exporter": "python",
   "pygments_lexer": "ipython3",
   "version": "3.9.7"
  },
  "orig_nbformat": 4,
  "vscode": {
   "interpreter": {
    "hash": "201a26f47ffd5fe054d36b8c9ecc5db00f385bb95bd85cb1352168bc60eb9a82"
   }
  }
 },
 "nbformat": 4,
 "nbformat_minor": 2
}
